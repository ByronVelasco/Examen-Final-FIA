{
 "cells": [
  {
   "cell_type": "markdown",
   "id": "327785f3",
   "metadata": {},
   "source": [
    "## **Librerías necesarias**"
   ]
  },
  {
   "cell_type": "code",
   "execution_count": 1,
   "metadata": {},
   "outputs": [],
   "source": [
    "import pandas as pd\n",
    "import numpy as np"
   ]
  },
  {
   "cell_type": "markdown",
   "id": "fb6cdbb9",
   "metadata": {},
   "source": [
    "## **About Dataset**\n",
    "### **Overview**\n",
    "\n",
    "Dive into the Extrovert vs. Introvert Personality Traits Dataset, a rich collection of behavioral and social data designed to explore the spectrum of human personality. This dataset captures key indicators of extroversion and introversion, making it a valuable resource for psychologists, data scientists, and researchers studying social behavior, personality prediction, or data preprocessing techniques.\n",
    "\n",
    "### **Context**\n",
    "\n",
    "Personality traits like extroversion and introversion shape how individuals interact with their social environments. This dataset provides insights into behaviors such as time spent alone, social event attendance, and social media engagement, enabling applications in psychology, sociology, marketing, and machine learning. Whether you're predicting personality types or analyzing social patterns, this dataset is your gateway to uncovering fascinating insights.\n",
    "\n",
    "### **Dataset Details**\n",
    "\n",
    "Size: The dataset contains 2,900 rows and 8 columns.\n",
    "\n",
    "#### Features:\n",
    "- Time_spent_Alone: Hours spent alone daily (0–11).\n",
    "- Stage_fear: Presence of stage fright (Yes/No).\n",
    "- Social_event_attendance: Frequency of social events (0–10).\n",
    "- Going_outside: Frequency of going outside (0–7).\n",
    "- Drained_after_socializing: Feeling drained after socializing (Yes/No).\n",
    "- Friends_circle_size: Number of close friends (0–15).\n",
    "- Post_frequency: Social media post frequency (0–10).\n",
    "- Personality: Target variable (Extrovert/Introvert).\n",
    "\n",
    "*Taken from: [Kaggle](https://www.kaggle.com/datasets/rakeshkapilavai/extrovert-vs-introvert-behavior-data)*"
   ]
  },
  {
   "cell_type": "markdown",
   "id": "a14e5862",
   "metadata": {},
   "source": [
    "## **Leemos el dataset**"
   ]
  },
  {
   "cell_type": "code",
   "execution_count": 2,
   "id": "fb611cb9",
   "metadata": {},
   "outputs": [],
   "source": [
    "df = pd.read_csv('personality_dataset.csv')"
   ]
  },
  {
   "cell_type": "markdown",
   "id": "65595c66",
   "metadata": {},
   "source": [
    "## **Un poco de información del dataset**"
   ]
  },
  {
   "cell_type": "code",
   "execution_count": 3,
   "id": "38d1562c",
   "metadata": {},
   "outputs": [
    {
     "data": {
      "text/html": [
       "<div>\n",
       "<style scoped>\n",
       "    .dataframe tbody tr th:only-of-type {\n",
       "        vertical-align: middle;\n",
       "    }\n",
       "\n",
       "    .dataframe tbody tr th {\n",
       "        vertical-align: top;\n",
       "    }\n",
       "\n",
       "    .dataframe thead th {\n",
       "        text-align: right;\n",
       "    }\n",
       "</style>\n",
       "<table border=\"1\" class=\"dataframe\">\n",
       "  <thead>\n",
       "    <tr style=\"text-align: right;\">\n",
       "      <th></th>\n",
       "      <th>Time_spent_Alone</th>\n",
       "      <th>Stage_fear</th>\n",
       "      <th>Social_event_attendance</th>\n",
       "      <th>Going_outside</th>\n",
       "      <th>Drained_after_socializing</th>\n",
       "      <th>Friends_circle_size</th>\n",
       "      <th>Post_frequency</th>\n",
       "      <th>Personality</th>\n",
       "    </tr>\n",
       "  </thead>\n",
       "  <tbody>\n",
       "    <tr>\n",
       "      <th>0</th>\n",
       "      <td>4.0</td>\n",
       "      <td>No</td>\n",
       "      <td>4.0</td>\n",
       "      <td>6.0</td>\n",
       "      <td>No</td>\n",
       "      <td>13.0</td>\n",
       "      <td>5.0</td>\n",
       "      <td>Extrovert</td>\n",
       "    </tr>\n",
       "    <tr>\n",
       "      <th>1</th>\n",
       "      <td>9.0</td>\n",
       "      <td>Yes</td>\n",
       "      <td>0.0</td>\n",
       "      <td>0.0</td>\n",
       "      <td>Yes</td>\n",
       "      <td>0.0</td>\n",
       "      <td>3.0</td>\n",
       "      <td>Introvert</td>\n",
       "    </tr>\n",
       "    <tr>\n",
       "      <th>2</th>\n",
       "      <td>9.0</td>\n",
       "      <td>Yes</td>\n",
       "      <td>1.0</td>\n",
       "      <td>2.0</td>\n",
       "      <td>Yes</td>\n",
       "      <td>5.0</td>\n",
       "      <td>2.0</td>\n",
       "      <td>Introvert</td>\n",
       "    </tr>\n",
       "    <tr>\n",
       "      <th>3</th>\n",
       "      <td>0.0</td>\n",
       "      <td>No</td>\n",
       "      <td>6.0</td>\n",
       "      <td>7.0</td>\n",
       "      <td>No</td>\n",
       "      <td>14.0</td>\n",
       "      <td>8.0</td>\n",
       "      <td>Extrovert</td>\n",
       "    </tr>\n",
       "    <tr>\n",
       "      <th>4</th>\n",
       "      <td>3.0</td>\n",
       "      <td>No</td>\n",
       "      <td>9.0</td>\n",
       "      <td>4.0</td>\n",
       "      <td>No</td>\n",
       "      <td>8.0</td>\n",
       "      <td>5.0</td>\n",
       "      <td>Extrovert</td>\n",
       "    </tr>\n",
       "  </tbody>\n",
       "</table>\n",
       "</div>"
      ],
      "text/plain": [
       "   Time_spent_Alone Stage_fear  Social_event_attendance  Going_outside  \\\n",
       "0               4.0         No                      4.0            6.0   \n",
       "1               9.0        Yes                      0.0            0.0   \n",
       "2               9.0        Yes                      1.0            2.0   \n",
       "3               0.0         No                      6.0            7.0   \n",
       "4               3.0         No                      9.0            4.0   \n",
       "\n",
       "  Drained_after_socializing  Friends_circle_size  Post_frequency Personality  \n",
       "0                        No                 13.0             5.0   Extrovert  \n",
       "1                       Yes                  0.0             3.0   Introvert  \n",
       "2                       Yes                  5.0             2.0   Introvert  \n",
       "3                        No                 14.0             8.0   Extrovert  \n",
       "4                        No                  8.0             5.0   Extrovert  "
      ]
     },
     "execution_count": 3,
     "metadata": {},
     "output_type": "execute_result"
    }
   ],
   "source": [
    "df.head()"
   ]
  },
  {
   "cell_type": "code",
   "execution_count": 4,
   "id": "bcf4e36c",
   "metadata": {},
   "outputs": [
    {
     "name": "stdout",
     "output_type": "stream",
     "text": [
      "<class 'pandas.core.frame.DataFrame'>\n",
      "RangeIndex: 2900 entries, 0 to 2899\n",
      "Data columns (total 8 columns):\n",
      " #   Column                     Non-Null Count  Dtype  \n",
      "---  ------                     --------------  -----  \n",
      " 0   Time_spent_Alone           2837 non-null   float64\n",
      " 1   Stage_fear                 2827 non-null   object \n",
      " 2   Social_event_attendance    2838 non-null   float64\n",
      " 3   Going_outside              2834 non-null   float64\n",
      " 4   Drained_after_socializing  2848 non-null   object \n",
      " 5   Friends_circle_size        2823 non-null   float64\n",
      " 6   Post_frequency             2835 non-null   float64\n",
      " 7   Personality                2900 non-null   object \n",
      "dtypes: float64(5), object(3)\n",
      "memory usage: 181.4+ KB\n"
     ]
    }
   ],
   "source": [
    "df.info()"
   ]
  },
  {
   "cell_type": "markdown",
   "id": "e45cc9e3",
   "metadata": {},
   "source": [
    "## **Quitamos los datos faltantes**"
   ]
  },
  {
   "cell_type": "code",
   "execution_count": 5,
   "id": "37fc0445",
   "metadata": {},
   "outputs": [
    {
     "data": {
      "text/plain": [
       "Time_spent_Alone             0\n",
       "Stage_fear                   0\n",
       "Social_event_attendance      0\n",
       "Going_outside                0\n",
       "Drained_after_socializing    0\n",
       "Friends_circle_size          0\n",
       "Post_frequency               0\n",
       "Personality                  0\n",
       "dtype: int64"
      ]
     },
     "execution_count": 5,
     "metadata": {},
     "output_type": "execute_result"
    }
   ],
   "source": [
    "df = df.dropna(axis=0, how='any')\n",
    "df.isna().sum()"
   ]
  },
  {
   "cell_type": "markdown",
   "id": "d0db7ae9",
   "metadata": {},
   "source": [
    "## **Vemos los valores únicos de las columnas categóricas**"
   ]
  },
  {
   "cell_type": "code",
   "execution_count": 6,
   "id": "4a0ead9b",
   "metadata": {},
   "outputs": [
    {
     "name": "stdout",
     "output_type": "stream",
     "text": [
      "Stage_fear: ['No' 'Yes']\n",
      "Drained_after_socializing: ['No' 'Yes']\n",
      "Personality: ['Extrovert' 'Introvert']\n"
     ]
    }
   ],
   "source": [
    "# Print unique values of categorical columns\n",
    "categorical_cols = df.select_dtypes(include='object').columns\n",
    "for col in categorical_cols:\n",
    "\tprint(f\"{col}: {df[col].unique()}\")"
   ]
  },
  {
   "cell_type": "markdown",
   "id": "343c84b6",
   "metadata": {},
   "source": [
    "## **Entrenamos el modelo**\n",
    "1. Codificamos las variables categóricas.\n",
    "2. Seleccionamos las variables predictoras y la variable objetivo.\n",
    "3. Dividimos el dataset en entrenamiento y prueba.\n",
    "4. Entrenamos un modelo de Random Forest.\n",
    "5. Hacemos predicciones e imprimimos el reporte de clasificación."
   ]
  },
  {
   "cell_type": "code",
   "execution_count": 7,
   "id": "49795596",
   "metadata": {},
   "outputs": [
    {
     "name": "stdout",
     "output_type": "stream",
     "text": [
      "              precision    recall  f1-score   support\n",
      "\n",
      "   Extrovert       0.92      0.89      0.91       246\n",
      "   Introvert       0.90      0.92      0.91       250\n",
      "\n",
      "    accuracy                           0.91       496\n",
      "   macro avg       0.91      0.91      0.91       496\n",
      "weighted avg       0.91      0.91      0.91       496\n",
      "\n"
     ]
    }
   ],
   "source": [
    "from sklearn.model_selection import train_test_split\n",
    "from sklearn.preprocessing import LabelEncoder\n",
    "from sklearn.ensemble import RandomForestClassifier\n",
    "from sklearn.metrics import classification_report\n",
    "\n",
    "# Encode categorical variables\n",
    "df_encoded = df.copy()\n",
    "label_encoders = {}\n",
    "for col in ['Stage_fear', 'Drained_after_socializing', 'Personality']:\n",
    "\tle = LabelEncoder()\n",
    "\tdf_encoded[col] = le.fit_transform(df_encoded[col])\n",
    "\tlabel_encoders[col] = le\n",
    "\n",
    "# Features and target\n",
    "X = df_encoded.drop('Personality', axis=1)\n",
    "y = df_encoded['Personality']\n",
    "\n",
    "# Split data\n",
    "X_train, X_test, y_train, y_test = train_test_split(X, y, test_size=0.2, random_state=42)\n",
    "\n",
    "# Train classifier\n",
    "clf = RandomForestClassifier(random_state=42)\n",
    "clf.fit(X_train, y_train)\n",
    "\n",
    "# Predict and evaluate\n",
    "y_pred = clf.predict(X_test)\n",
    "print(classification_report(y_test, y_pred, target_names=label_encoders['Personality'].classes_))"
   ]
  },
  {
   "cell_type": "markdown",
   "id": "4ba3d3e3",
   "metadata": {},
   "source": [
    "## **Exportamos el modelo**"
   ]
  },
  {
   "cell_type": "code",
   "execution_count": 8,
   "id": "669e4c23",
   "metadata": {},
   "outputs": [
    {
     "data": {
      "text/plain": [
       "['RF_model.pkl']"
      ]
     },
     "execution_count": 8,
     "metadata": {},
     "output_type": "execute_result"
    }
   ],
   "source": [
    "import joblib\n",
    "joblib.dump(clf, 'RF_model.pkl')"
   ]
  },
  {
   "cell_type": "markdown",
   "id": "b781ae0b",
   "metadata": {},
   "source": [
    "## **Hacemos una predicción de prueba**"
   ]
  },
  {
   "cell_type": "code",
   "execution_count": 9,
   "id": "6371f4e5",
   "metadata": {},
   "outputs": [
    {
     "name": "stdout",
     "output_type": "stream",
     "text": [
      "Predicted Personality: Extrovert\n"
     ]
    }
   ],
   "source": [
    "# Load the trained model\n",
    "clf_loaded = joblib.load('RF_model.pkl')\n",
    "\n",
    "# Example new observation\n",
    "new_observation = pd.DataFrame({\n",
    "\t'Time_spent_Alone': [5.0],\n",
    "\t'Stage_fear': [0],\n",
    "\t'Social_event_attendance': [3.0],\n",
    "\t'Going_outside': [2.0],\n",
    "\t'Drained_after_socializing': [0],\n",
    "\t'Friends_circle_size': [7.0],\n",
    "\t'Post_frequency': [4.0]\n",
    "})\n",
    "\n",
    "# Predict using the trained classifier\n",
    "pred_encoded = clf_loaded.predict(new_observation)[0]\n",
    "pred_label = label_encoders['Personality'].inverse_transform([pred_encoded])[0]\n",
    "print(f\"Predicted Personality: {pred_label}\")"
   ]
  },
  {
   "cell_type": "code",
   "execution_count": 10,
   "id": "ab4bfb61",
   "metadata": {},
   "outputs": [
    {
     "name": "stdout",
     "output_type": "stream",
     "text": [
      "Predicted Personality: Introvert\n"
     ]
    }
   ],
   "source": [
    "# Example new observation\n",
    "new_observation = pd.DataFrame({\n",
    "\t'Time_spent_Alone': [10.0],\n",
    "\t'Stage_fear': [1],\n",
    "\t'Social_event_attendance': [1.0],\n",
    "\t'Going_outside': [2.0],\n",
    "\t'Drained_after_socializing': [1],\n",
    "\t'Friends_circle_size': [7.0],\n",
    "\t'Post_frequency': [1.0]\n",
    "})\n",
    "\n",
    "# Predict using the trained classifier\n",
    "pred_encoded = clf_loaded.predict(new_observation)[0]\n",
    "pred_label = label_encoders['Personality'].inverse_transform([pred_encoded])[0]\n",
    "print(f\"Predicted Personality: {pred_label}\")"
   ]
  }
 ],
 "metadata": {
  "kernelspec": {
   "display_name": "Python 3",
   "language": "python",
   "name": "python3"
  },
  "language_info": {
   "codemirror_mode": {
    "name": "ipython",
    "version": 3
   },
   "file_extension": ".py",
   "mimetype": "text/x-python",
   "name": "python",
   "nbconvert_exporter": "python",
   "pygments_lexer": "ipython3",
   "version": "3.13.3"
  }
 },
 "nbformat": 4,
 "nbformat_minor": 5
}
